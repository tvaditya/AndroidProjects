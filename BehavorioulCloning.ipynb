{
  "nbformat": 4,
  "nbformat_minor": 0,
  "metadata": {
    "colab": {
      "name": "BehavorioulCloning.ipynb",
      "version": "0.3.2",
      "provenance": [],
      "include_colab_link": true
    },
    "kernelspec": {
      "name": "python3",
      "display_name": "Python 3"
    },
    "accelerator": "GPU"
  },
  "cells": [
    {
      "cell_type": "markdown",
      "metadata": {
        "id": "view-in-github",
        "colab_type": "text"
      },
      "source": [
        "<a href=\"https://colab.research.google.com/github/tvaditya/AndroidProjects/blob/master/BehavorioulCloning.ipynb\" target=\"_parent\"><img src=\"https://colab.research.google.com/assets/colab-badge.svg\" alt=\"Open In Colab\"/></a>"
      ]
    },
    {
      "metadata": {
        "id": "Hgp0auEbGnI2",
        "colab_type": "code",
        "colab": {
          "base_uri": "https://localhost:8080/",
          "height": 34
        },
        "outputId": "44ba35f3-528b-441f-84df-e645d69f1579"
      },
      "cell_type": "code",
      "source": [
        "!git clone https://github.com/tvaditya/tracksintro"
      ],
      "execution_count": 1,
      "outputs": [
        {
          "output_type": "stream",
          "text": [
            "fatal: destination path 'tracksintro' already exists and is not an empty directory.\n"
          ],
          "name": "stdout"
        }
      ]
    },
    {
      "metadata": {
        "id": "MtF7SPCAHPpv",
        "colab_type": "code",
        "colab": {
          "base_uri": "https://localhost:8080/",
          "height": 34
        },
        "outputId": "03832396-b7c2-4467-ac52-1b6cc9a642b3"
      },
      "cell_type": "code",
      "source": [
        "!ls tracksintro\n"
      ],
      "execution_count": 2,
      "outputs": [
        {
          "output_type": "stream",
          "text": [
            "driving_log.csv  IMG  README.md\n"
          ],
          "name": "stdout"
        }
      ]
    },
    {
      "metadata": {
        "id": "cQiYg2l0HPzO",
        "colab_type": "code",
        "colab": {
          "base_uri": "https://localhost:8080/",
          "height": 34
        },
        "outputId": "5a5ac83e-736d-489f-dbbd-40296f55e8ff"
      },
      "cell_type": "code",
      "source": [
        "import os\n",
        "import numpy as np\n",
        "import matplotlib.pyplot as plt\n",
        "import matplotlib.image as mpimg\n",
        "import keras\n",
        "from keras.models import Sequential\n",
        "from keras.optimizers import Adam\n",
        "from keras.layers import Convolution2D, MaxPooling2D, Dropout, Flatten, Dense\n",
        "from sklearn.utils import shuffle\n",
        "from sklearn.model_selection import train_test_split\n",
        "from imgaug import augmenters as iaa\n",
        "import cv2\n",
        "import pandas as pd\n",
        "import ntpath\n",
        "import random"
      ],
      "execution_count": 3,
      "outputs": [
        {
          "output_type": "stream",
          "text": [
            "Using TensorFlow backend.\n"
          ],
          "name": "stderr"
        }
      ]
    },
    {
      "metadata": {
        "id": "WVJDAVGwHP74",
        "colab_type": "code",
        "colab": {
          "base_uri": "https://localhost:8080/",
          "height": 215
        },
        "outputId": "6317ddae-ab8e-492f-a6b1-f1898abbedec"
      },
      "cell_type": "code",
      "source": [
        "datadir = 'tracksintro'\n",
        "columns = ['center', 'left', 'right', 'steering', 'throttle', 'reverse', 'speed']\n",
        "data = pd.read_csv(os.path.join(datadir, 'driving_log.csv'), names = columns)\n",
        "# display maximum column width , avoida the ellipsis\n",
        "pd.set_option('display.max_colwidth', -1)\n",
        "data.head()"
      ],
      "execution_count": 4,
      "outputs": [
        {
          "output_type": "execute_result",
          "data": {
            "text/html": [
              "<div>\n",
              "<style scoped>\n",
              "    .dataframe tbody tr th:only-of-type {\n",
              "        vertical-align: middle;\n",
              "    }\n",
              "\n",
              "    .dataframe tbody tr th {\n",
              "        vertical-align: top;\n",
              "    }\n",
              "\n",
              "    .dataframe thead th {\n",
              "        text-align: right;\n",
              "    }\n",
              "</style>\n",
              "<table border=\"1\" class=\"dataframe\">\n",
              "  <thead>\n",
              "    <tr style=\"text-align: right;\">\n",
              "      <th></th>\n",
              "      <th>center</th>\n",
              "      <th>left</th>\n",
              "      <th>right</th>\n",
              "      <th>steering</th>\n",
              "      <th>throttle</th>\n",
              "      <th>reverse</th>\n",
              "      <th>speed</th>\n",
              "    </tr>\n",
              "  </thead>\n",
              "  <tbody>\n",
              "    <tr>\n",
              "      <th>0</th>\n",
              "      <td>C:\\Users\\aditya\\Desktop\\DataAV\\IMG\\center_2019_01_27_21_41_00_148.jpg</td>\n",
              "      <td>C:\\Users\\aditya\\Desktop\\DataAV\\IMG\\left_2019_01_27_21_41_00_148.jpg</td>\n",
              "      <td>C:\\Users\\aditya\\Desktop\\DataAV\\IMG\\right_2019_01_27_21_41_00_148.jpg</td>\n",
              "      <td>0.0</td>\n",
              "      <td>0.0</td>\n",
              "      <td>0.0</td>\n",
              "      <td>0.000078</td>\n",
              "    </tr>\n",
              "    <tr>\n",
              "      <th>1</th>\n",
              "      <td>C:\\Users\\aditya\\Desktop\\DataAV\\IMG\\center_2019_01_27_21_41_00_248.jpg</td>\n",
              "      <td>C:\\Users\\aditya\\Desktop\\DataAV\\IMG\\left_2019_01_27_21_41_00_248.jpg</td>\n",
              "      <td>C:\\Users\\aditya\\Desktop\\DataAV\\IMG\\right_2019_01_27_21_41_00_248.jpg</td>\n",
              "      <td>0.0</td>\n",
              "      <td>0.0</td>\n",
              "      <td>0.0</td>\n",
              "      <td>0.000079</td>\n",
              "    </tr>\n",
              "    <tr>\n",
              "      <th>2</th>\n",
              "      <td>C:\\Users\\aditya\\Desktop\\DataAV\\IMG\\center_2019_01_27_21_41_00_349.jpg</td>\n",
              "      <td>C:\\Users\\aditya\\Desktop\\DataAV\\IMG\\left_2019_01_27_21_41_00_349.jpg</td>\n",
              "      <td>C:\\Users\\aditya\\Desktop\\DataAV\\IMG\\right_2019_01_27_21_41_00_349.jpg</td>\n",
              "      <td>0.0</td>\n",
              "      <td>0.0</td>\n",
              "      <td>0.0</td>\n",
              "      <td>0.000079</td>\n",
              "    </tr>\n",
              "    <tr>\n",
              "      <th>3</th>\n",
              "      <td>C:\\Users\\aditya\\Desktop\\DataAV\\IMG\\center_2019_01_27_21_41_00_463.jpg</td>\n",
              "      <td>C:\\Users\\aditya\\Desktop\\DataAV\\IMG\\left_2019_01_27_21_41_00_463.jpg</td>\n",
              "      <td>C:\\Users\\aditya\\Desktop\\DataAV\\IMG\\right_2019_01_27_21_41_00_463.jpg</td>\n",
              "      <td>0.0</td>\n",
              "      <td>0.0</td>\n",
              "      <td>0.0</td>\n",
              "      <td>0.000078</td>\n",
              "    </tr>\n",
              "    <tr>\n",
              "      <th>4</th>\n",
              "      <td>C:\\Users\\aditya\\Desktop\\DataAV\\IMG\\center_2019_01_27_21_41_00_563.jpg</td>\n",
              "      <td>C:\\Users\\aditya\\Desktop\\DataAV\\IMG\\left_2019_01_27_21_41_00_563.jpg</td>\n",
              "      <td>C:\\Users\\aditya\\Desktop\\DataAV\\IMG\\right_2019_01_27_21_41_00_563.jpg</td>\n",
              "      <td>0.0</td>\n",
              "      <td>0.0</td>\n",
              "      <td>0.0</td>\n",
              "      <td>0.000080</td>\n",
              "    </tr>\n",
              "  </tbody>\n",
              "</table>\n",
              "</div>"
            ],
            "text/plain": [
              "                                                                  center  \\\n",
              "0  C:\\Users\\aditya\\Desktop\\DataAV\\IMG\\center_2019_01_27_21_41_00_148.jpg   \n",
              "1  C:\\Users\\aditya\\Desktop\\DataAV\\IMG\\center_2019_01_27_21_41_00_248.jpg   \n",
              "2  C:\\Users\\aditya\\Desktop\\DataAV\\IMG\\center_2019_01_27_21_41_00_349.jpg   \n",
              "3  C:\\Users\\aditya\\Desktop\\DataAV\\IMG\\center_2019_01_27_21_41_00_463.jpg   \n",
              "4  C:\\Users\\aditya\\Desktop\\DataAV\\IMG\\center_2019_01_27_21_41_00_563.jpg   \n",
              "\n",
              "                                                                   left  \\\n",
              "0   C:\\Users\\aditya\\Desktop\\DataAV\\IMG\\left_2019_01_27_21_41_00_148.jpg   \n",
              "1   C:\\Users\\aditya\\Desktop\\DataAV\\IMG\\left_2019_01_27_21_41_00_248.jpg   \n",
              "2   C:\\Users\\aditya\\Desktop\\DataAV\\IMG\\left_2019_01_27_21_41_00_349.jpg   \n",
              "3   C:\\Users\\aditya\\Desktop\\DataAV\\IMG\\left_2019_01_27_21_41_00_463.jpg   \n",
              "4   C:\\Users\\aditya\\Desktop\\DataAV\\IMG\\left_2019_01_27_21_41_00_563.jpg   \n",
              "\n",
              "                                                                   right  \\\n",
              "0   C:\\Users\\aditya\\Desktop\\DataAV\\IMG\\right_2019_01_27_21_41_00_148.jpg   \n",
              "1   C:\\Users\\aditya\\Desktop\\DataAV\\IMG\\right_2019_01_27_21_41_00_248.jpg   \n",
              "2   C:\\Users\\aditya\\Desktop\\DataAV\\IMG\\right_2019_01_27_21_41_00_349.jpg   \n",
              "3   C:\\Users\\aditya\\Desktop\\DataAV\\IMG\\right_2019_01_27_21_41_00_463.jpg   \n",
              "4   C:\\Users\\aditya\\Desktop\\DataAV\\IMG\\right_2019_01_27_21_41_00_563.jpg   \n",
              "\n",
              "   steering  throttle  reverse     speed  \n",
              "0  0.0       0.0       0.0      0.000078  \n",
              "1  0.0       0.0       0.0      0.000079  \n",
              "2  0.0       0.0       0.0      0.000079  \n",
              "3  0.0       0.0       0.0      0.000078  \n",
              "4  0.0       0.0       0.0      0.000080  "
            ]
          },
          "metadata": {
            "tags": []
          },
          "execution_count": 4
        }
      ]
    },
    {
      "metadata": {
        "id": "y7ffX9BxHQDu",
        "colab_type": "code",
        "colab": {}
      },
      "cell_type": "code",
      "source": [
        "def path_leaf(path):\n",
        "  head, tail = ntpath.split(path)\n",
        "  return tail\n",
        "data['center'] = data['center'].apply(path_leaf)\n",
        "data['left'] = data['left'].apply(path_leaf)\n",
        "data['right'] = data['right'].apply(path_leaf)\n"
      ],
      "execution_count": 0,
      "outputs": []
    },
    {
      "metadata": {
        "id": "P5z99Yv8HQLW",
        "colab_type": "code",
        "colab": {
          "base_uri": "https://localhost:8080/",
          "height": 195
        },
        "outputId": "2103f600-90c2-46b6-b494-8c8019732e7f"
      },
      "cell_type": "code",
      "source": [
        "data.head()"
      ],
      "execution_count": 6,
      "outputs": [
        {
          "output_type": "execute_result",
          "data": {
            "text/html": [
              "<div>\n",
              "<style scoped>\n",
              "    .dataframe tbody tr th:only-of-type {\n",
              "        vertical-align: middle;\n",
              "    }\n",
              "\n",
              "    .dataframe tbody tr th {\n",
              "        vertical-align: top;\n",
              "    }\n",
              "\n",
              "    .dataframe thead th {\n",
              "        text-align: right;\n",
              "    }\n",
              "</style>\n",
              "<table border=\"1\" class=\"dataframe\">\n",
              "  <thead>\n",
              "    <tr style=\"text-align: right;\">\n",
              "      <th></th>\n",
              "      <th>center</th>\n",
              "      <th>left</th>\n",
              "      <th>right</th>\n",
              "      <th>steering</th>\n",
              "      <th>throttle</th>\n",
              "      <th>reverse</th>\n",
              "      <th>speed</th>\n",
              "    </tr>\n",
              "  </thead>\n",
              "  <tbody>\n",
              "    <tr>\n",
              "      <th>0</th>\n",
              "      <td>center_2019_01_27_21_41_00_148.jpg</td>\n",
              "      <td>left_2019_01_27_21_41_00_148.jpg</td>\n",
              "      <td>right_2019_01_27_21_41_00_148.jpg</td>\n",
              "      <td>0.0</td>\n",
              "      <td>0.0</td>\n",
              "      <td>0.0</td>\n",
              "      <td>0.000078</td>\n",
              "    </tr>\n",
              "    <tr>\n",
              "      <th>1</th>\n",
              "      <td>center_2019_01_27_21_41_00_248.jpg</td>\n",
              "      <td>left_2019_01_27_21_41_00_248.jpg</td>\n",
              "      <td>right_2019_01_27_21_41_00_248.jpg</td>\n",
              "      <td>0.0</td>\n",
              "      <td>0.0</td>\n",
              "      <td>0.0</td>\n",
              "      <td>0.000079</td>\n",
              "    </tr>\n",
              "    <tr>\n",
              "      <th>2</th>\n",
              "      <td>center_2019_01_27_21_41_00_349.jpg</td>\n",
              "      <td>left_2019_01_27_21_41_00_349.jpg</td>\n",
              "      <td>right_2019_01_27_21_41_00_349.jpg</td>\n",
              "      <td>0.0</td>\n",
              "      <td>0.0</td>\n",
              "      <td>0.0</td>\n",
              "      <td>0.000079</td>\n",
              "    </tr>\n",
              "    <tr>\n",
              "      <th>3</th>\n",
              "      <td>center_2019_01_27_21_41_00_463.jpg</td>\n",
              "      <td>left_2019_01_27_21_41_00_463.jpg</td>\n",
              "      <td>right_2019_01_27_21_41_00_463.jpg</td>\n",
              "      <td>0.0</td>\n",
              "      <td>0.0</td>\n",
              "      <td>0.0</td>\n",
              "      <td>0.000078</td>\n",
              "    </tr>\n",
              "    <tr>\n",
              "      <th>4</th>\n",
              "      <td>center_2019_01_27_21_41_00_563.jpg</td>\n",
              "      <td>left_2019_01_27_21_41_00_563.jpg</td>\n",
              "      <td>right_2019_01_27_21_41_00_563.jpg</td>\n",
              "      <td>0.0</td>\n",
              "      <td>0.0</td>\n",
              "      <td>0.0</td>\n",
              "      <td>0.000080</td>\n",
              "    </tr>\n",
              "  </tbody>\n",
              "</table>\n",
              "</div>"
            ],
            "text/plain": [
              "                               center                              left  \\\n",
              "0  center_2019_01_27_21_41_00_148.jpg  left_2019_01_27_21_41_00_148.jpg   \n",
              "1  center_2019_01_27_21_41_00_248.jpg  left_2019_01_27_21_41_00_248.jpg   \n",
              "2  center_2019_01_27_21_41_00_349.jpg  left_2019_01_27_21_41_00_349.jpg   \n",
              "3  center_2019_01_27_21_41_00_463.jpg  left_2019_01_27_21_41_00_463.jpg   \n",
              "4  center_2019_01_27_21_41_00_563.jpg  left_2019_01_27_21_41_00_563.jpg   \n",
              "\n",
              "                               right  steering  throttle  reverse     speed  \n",
              "0  right_2019_01_27_21_41_00_148.jpg  0.0       0.0       0.0      0.000078  \n",
              "1  right_2019_01_27_21_41_00_248.jpg  0.0       0.0       0.0      0.000079  \n",
              "2  right_2019_01_27_21_41_00_349.jpg  0.0       0.0       0.0      0.000079  \n",
              "3  right_2019_01_27_21_41_00_463.jpg  0.0       0.0       0.0      0.000078  \n",
              "4  right_2019_01_27_21_41_00_563.jpg  0.0       0.0       0.0      0.000080  "
            ]
          },
          "metadata": {
            "tags": []
          },
          "execution_count": 6
        }
      ]
    },
    {
      "metadata": {
        "id": "bqFS-XreHQSu",
        "colab_type": "code",
        "colab": {
          "base_uri": "https://localhost:8080/",
          "height": 414
        },
        "outputId": "649bb375-d8dc-4cec-ba85-d0cfddf95a0f"
      },
      "cell_type": "code",
      "source": [
        "num_bins = 25\n",
        "samples_per_bin = 250\n",
        "hist, bins = np.histogram(data['steering'], num_bins)\n",
        "center = (bins[:-1]+ bins[1:]) * 0.5\n",
        "print(bins)\n",
        "plt.bar(center, hist, width=0.05)\n",
        "plt.plot((np.min(data['steering']), np.max(data['steering'])), (samples_per_bin, samples_per_bin))"
      ],
      "execution_count": 7,
      "outputs": [
        {
          "output_type": "stream",
          "text": [
            "[-1.   -0.92 -0.84 -0.76 -0.68 -0.6  -0.52 -0.44 -0.36 -0.28 -0.2  -0.12\n",
            " -0.04  0.04  0.12  0.2   0.28  0.36  0.44  0.52  0.6   0.68  0.76  0.84\n",
            "  0.92  1.  ]\n"
          ],
          "name": "stdout"
        },
        {
          "output_type": "execute_result",
          "data": {
            "text/plain": [
              "[<matplotlib.lines.Line2D at 0x7f45ec05e668>]"
            ]
          },
          "metadata": {
            "tags": []
          },
          "execution_count": 7
        },
        {
          "output_type": "display_data",
          "data": {
            "image/png": "[encoded data removed]",
            "text/plain": [
              "<Figure size 576x396 with 1 Axes>"
            ]
          },
          "metadata": {
            "tags": []
          }
        }
      ]
    },
    {
      "metadata": {
        "id": "sag7O5UlHQaq",
        "colab_type": "code",
        "colab": {
          "base_uri": "https://localhost:8080/",
          "height": 414
        },
        "outputId": "6d679882-4d8c-40bc-e088-596bba42b3a8"
      },
      "cell_type": "code",
      "source": [
        "print('total data:', len(data))\n",
        "remove_list = []\n",
        "for j in range(num_bins):\n",
        "  list_ = []\n",
        "  for i in range(len(data['steering'])):\n",
        "    if data['steering'][i] >= bins[j] and data['steering'][i] <= bins[j+1]:\n",
        "      list_.append(i)\n",
        "  list_ = shuffle(list_)\n",
        "  list_ = list_[samples_per_bin:]\n",
        "  remove_list.extend(list_)\n",
        " \n",
        "print('removed:', len(remove_list))\n",
        "data.drop(data.index[remove_list], inplace=True)\n",
        "print('remaining:', len(data))\n",
        " \n",
        "hist, _ = np.histogram(data['steering'], (num_bins))\n",
        "plt.bar(center, hist, width=0.05)\n",
        "plt.plot((np.min(data['steering']), np.max(data['steering'])), (samples_per_bin, samples_per_bin))\n"
      ],
      "execution_count": 8,
      "outputs": [
        {
          "output_type": "stream",
          "text": [
            "total data: 6702\n",
            "removed: 4798\n",
            "remaining: 1904\n"
          ],
          "name": "stdout"
        },
        {
          "output_type": "execute_result",
          "data": {
            "text/plain": [
              "[<matplotlib.lines.Line2D at 0x7f45eb673550>]"
            ]
          },
          "metadata": {
            "tags": []
          },
          "execution_count": 8
        },
        {
          "output_type": "display_data",
          "data": {
            "image/png": "[encoded data removed]",
            "text/plain": [
              "<Figure size 576x396 with 1 Axes>"
            ]
          },
          "metadata": {
            "tags": []
          }
        }
      ]
    },
    {
      "metadata": {
        "id": "HxnvY3g1HQiv",
        "colab_type": "code",
        "colab": {
          "base_uri": "https://localhost:8080/",
          "height": 151
        },
        "outputId": "7a67fd3c-ce7f-45ce-bc63-6bbf9d38e03e"
      },
      "cell_type": "code",
      "source": [
        "print(data.iloc[1])\n",
        "def load_img_steering(datadir, df):\n",
        "  image_path = []\n",
        "  steering = []\n",
        "  for i in range(len(data)):\n",
        "    indexed_data = data.iloc[i]\n",
        "    center, left, right = indexed_data[0], indexed_data[1], indexed_data[2]\n",
        "    # centered image append\n",
        "    image_path.append(os.path.join(datadir, center.strip()))\n",
        "    steering.append(float(indexed_data[3]))\n",
        "    # left image append\n",
        "    image_path.append(os.path.join(datadir,left.strip()))\n",
        "    steering.append(float(indexed_data[3])+0.15)\n",
        "    # right image append\n",
        "    image_path.append(os.path.join(datadir,right.strip()))\n",
        "    steering.append(float(indexed_data[3])-0.15)\n",
        "  image_paths = np.asarray(image_path)\n",
        "  steerings = np.asarray(steering)\n",
        "  return image_paths, steerings\n",
        "\n",
        "image_paths, steerings = load_img_steering(datadir + '/IMG', data)"
      ],
      "execution_count": 9,
      "outputs": [
        {
          "output_type": "stream",
          "text": [
            "center      center_2019_01_27_21_41_02_506.jpg\n",
            "left        left_2019_01_27_21_41_02_506.jpg  \n",
            "right       right_2019_01_27_21_41_02_506.jpg \n",
            "steering   -0.312885                          \n",
            "throttle    1                                 \n",
            "reverse     0                                 \n",
            "speed       2.10406                           \n",
            "Name: 22, dtype: object\n"
          ],
          "name": "stdout"
        }
      ]
    },
    {
      "metadata": {
        "id": "ys5GQSlEHQq_",
        "colab_type": "code",
        "colab": {
          "base_uri": "https://localhost:8080/",
          "height": 50
        },
        "outputId": "5c70f689-74e2-46b0-db9f-b6e309aa621e"
      },
      "cell_type": "code",
      "source": [
        "X_train, X_valid, y_train, y_valid = train_test_split(image_paths, steerings, test_size=0.2, random_state=42)\n",
        "print('Training Samples: {}\\nValid Samples: {}'.format(len(X_train), len(X_valid)))"
      ],
      "execution_count": 10,
      "outputs": [
        {
          "output_type": "stream",
          "text": [
            "Training Samples: 4569\n",
            "Valid Samples: 1143\n"
          ],
          "name": "stdout"
        }
      ]
    },
    {
      "metadata": {
        "id": "ZYaeAOZqHQy4",
        "colab_type": "code",
        "colab": {
          "base_uri": "https://localhost:8080/",
          "height": 297
        },
        "outputId": "4c860444-2b83-4074-cf7e-2f034f475d8a"
      },
      "cell_type": "code",
      "source": [
        "fig, axes = plt.subplots(1, 2, figsize=(12, 4))\n",
        "axes[0].hist(y_train, bins=num_bins, width=0.05, color='blue')\n",
        "axes[0].set_title('Training set')\n",
        "axes[1].hist(y_valid, bins=num_bins, width=0.05, color='green')\n",
        "axes[1].set_title('Validation set')"
      ],
      "execution_count": 11,
      "outputs": [
        {
          "output_type": "execute_result",
          "data": {
            "text/plain": [
              "Text(0.5, 1.0, 'Validation set')"
            ]
          },
          "metadata": {
            "tags": []
          },
          "execution_count": 11
        },
        {
          "output_type": "display_data",
          "data": {
            "image/png": "[encoded data removed]",
            "text/plain": [
              "<Figure size 864x288 with 2 Axes>"
            ]
          },
          "metadata": {
            "tags": []
          }
        }
      ]
    },
    {
      "metadata": {
        "id": "trRo70DBHQ8g",
        "colab_type": "code",
        "colab": {}
      },
      "cell_type": "code",
      "source": [
        ""
      ],
      "execution_count": 0,
      "outputs": []
    },
    {
      "metadata": {
        "id": "mYSK4o0tHRFX",
        "colab_type": "code",
        "colab": {}
      },
      "cell_type": "code",
      "source": [
        ""
      ],
      "execution_count": 0,
      "outputs": []
    },
    {
      "metadata": {
        "id": "i2LnIn-wHRN7",
        "colab_type": "code",
        "colab": {}
      },
      "cell_type": "code",
      "source": [
        ""
      ],
      "execution_count": 0,
      "outputs": []
    },
    {
      "metadata": {
        "id": "O-nHOjUoHRVv",
        "colab_type": "code",
        "colab": {}
      },
      "cell_type": "code",
      "source": [
        ""
      ],
      "execution_count": 0,
      "outputs": []
    },
    {
      "metadata": {
        "id": "ybZyCFigHReR",
        "colab_type": "code",
        "colab": {}
      },
      "cell_type": "code",
      "source": [
        ""
      ],
      "execution_count": 0,
      "outputs": []
    },
    {
      "metadata": {
        "id": "GHURzNp_HRmY",
        "colab_type": "code",
        "colab": {}
      },
      "cell_type": "code",
      "source": [
        ""
      ],
      "execution_count": 0,
      "outputs": []
    }
  ]
}