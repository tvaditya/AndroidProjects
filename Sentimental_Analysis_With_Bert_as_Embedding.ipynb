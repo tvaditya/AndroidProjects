{
  "nbformat": 4,
  "nbformat_minor": 0,
  "metadata": {
    "colab": {
      "name": "Classificação de Sentimentos com BERT e Embedding",
      "provenance": [],
      "collapsed_sections": [],
      "include_colab_link": true
    },
    "kernelspec": {
      "name": "python3",
      "display_name": "Python 3"
    },
    "accelerator": "GPU"
  },
  "cells": [
    {
      "cell_type": "markdown",
      "metadata": {
        "id": "view-in-github",
        "colab_type": "text"
      },
      "source": [
        "<a href=\"https://colab.research.google.com/github/tvaditya/AndroidProjects/blob/master/Sentimental_Analysis_With_Bert_as_Embedding.ipynb\" target=\"_parent\"><img src=\"https://colab.research.google.com/assets/colab-badge.svg\" alt=\"Open In Colab\"/></a>"
      ]
    },
    {
      "cell_type": "markdown",
      "metadata": {
        "id": "1tadN4hSCP9p"
      },
      "source": [
        "# Etapa 1: Importação das bibliotecas"
      ]
    },
    {
      "cell_type": "code",
      "metadata": {
        "id": "EUU4TlmoFMZ_"
      },
      "source": [
        "import numpy as np\n",
        "import math\n",
        "import re\n",
        "import pandas as pd\n",
        "from bs4 import BeautifulSoup\n",
        "import random\n",
        "from google.colab import drive"
      ],
      "execution_count": null,
      "outputs": []
    },
    {
      "cell_type": "code",
      "metadata": {
        "id": "lXj8lk3uGn4P",
        "outputId": "6f0ed33a-3865-4c2d-98ab-a334cec4aae9",
        "colab": {
          "base_uri": "https://localhost:8080/",
          "height": 490
        }
      },
      "source": [
        "!pip install bert-for-tf2\n",
        "!pip install sentencepiece"
      ],
      "execution_count": null,
      "outputs": [
        {
          "output_type": "stream",
          "text": [
            "Collecting bert-for-tf2\n",
            "\u001b[?25l  Downloading https://files.pythonhosted.org/packages/35/5c/6439134ecd17b33fe0396fb0b7d6ce3c5a120c42a4516ba0e9a2d6e43b25/bert-for-tf2-0.14.4.tar.gz (40kB)\n",
            "\r\u001b[K     |████████                        | 10kB 26.6MB/s eta 0:00:01\r\u001b[K     |████████████████▏               | 20kB 31.6MB/s eta 0:00:01\r\u001b[K     |████████████████████████▎       | 30kB 24.0MB/s eta 0:00:01\r\u001b[K     |████████████████████████████████| 40kB 5.1MB/s \n",
            "\u001b[?25hCollecting py-params>=0.9.6\n",
            "  Downloading https://files.pythonhosted.org/packages/a4/bf/c1c70d5315a8677310ea10a41cfc41c5970d9b37c31f9c90d4ab98021fd1/py-params-0.9.7.tar.gz\n",
            "Collecting params-flow>=0.8.0\n",
            "  Downloading https://files.pythonhosted.org/packages/9c/dd/f873dd2fb61103a0415cfb7b9af366228f3069bbef1b6d9ae4f2b8d5e717/params-flow-0.8.1.tar.gz\n",
            "Requirement already satisfied: numpy in /usr/local/lib/python3.6/dist-packages (from params-flow>=0.8.0->bert-for-tf2) (1.18.3)\n",
            "Requirement already satisfied: tqdm in /usr/local/lib/python3.6/dist-packages (from params-flow>=0.8.0->bert-for-tf2) (4.38.0)\n",
            "Building wheels for collected packages: bert-for-tf2, py-params, params-flow\n",
            "  Building wheel for bert-for-tf2 (setup.py) ... \u001b[?25l\u001b[?25hdone\n",
            "  Created wheel for bert-for-tf2: filename=bert_for_tf2-0.14.4-cp36-none-any.whl size=30114 sha256=e049e07d19521ca33036d1e37a0c053b3e9b559c80db82fc65b62986e27dcebb\n",
            "  Stored in directory: /root/.cache/pip/wheels/cf/3f/4d/79d7735015a5f523648df90d871ce8e89a7df8185f7703eeab\n",
            "  Building wheel for py-params (setup.py) ... \u001b[?25l\u001b[?25hdone\n",
            "  Created wheel for py-params: filename=py_params-0.9.7-cp36-none-any.whl size=7302 sha256=4ff7fdc6f7726896ad308f10def059192c1860f195c05f70b3ca50cb7c4a3cf3\n",
            "  Stored in directory: /root/.cache/pip/wheels/67/f5/19/b461849a50aefdf4bab47c4756596e82ee2118b8278e5a1980\n",
            "  Building wheel for params-flow (setup.py) ... \u001b[?25l\u001b[?25hdone\n",
            "  Created wheel for params-flow: filename=params_flow-0.8.1-cp36-none-any.whl size=16121 sha256=803d0b3558dfc49db4410eada8976d72e6b9ed42a5afadd80969c93ec0718c7b\n",
            "  Stored in directory: /root/.cache/pip/wheels/d2/59/d0/ba322508e9593c78115ef46cf9dcf7f7d8a3fa9fc9f55c7bf3\n",
            "Successfully built bert-for-tf2 py-params params-flow\n",
            "Installing collected packages: py-params, params-flow, bert-for-tf2\n",
            "Successfully installed bert-for-tf2-0.14.4 params-flow-0.8.1 py-params-0.9.7\n",
            "Collecting sentencepiece\n",
            "\u001b[?25l  Downloading https://files.pythonhosted.org/packages/98/2c/8df20f3ac6c22ac224fff307ebc102818206c53fc454ecd37d8ac2060df5/sentencepiece-0.1.86-cp36-cp36m-manylinux1_x86_64.whl (1.0MB)\n",
            "\u001b[K     |████████████████████████████████| 1.0MB 17.0MB/s \n",
            "\u001b[?25hInstalling collected packages: sentencepiece\n",
            "Successfully installed sentencepiece-0.1.86\n"
          ],
          "name": "stdout"
        }
      ]
    },
    {
      "cell_type": "code",
      "metadata": {
        "id": "fOfuPdFHFpfC",
        "outputId": "f25d68ff-5c48-4e81-fb09-9fd443ffce61",
        "colab": {
          "base_uri": "https://localhost:8080/",
          "height": 34
        }
      },
      "source": [
        "%tensorflow_version 2.x\n",
        "import tensorflow as tf\n",
        "import tensorflow_hub as hub\n",
        "from tensorflow.keras import layers\n",
        "import bert\n",
        "tf.__version__\n",
        "# !pip install tensorflow==2.2.0-rc3"
      ],
      "execution_count": null,
      "outputs": [
        {
          "output_type": "execute_result",
          "data": {
            "text/plain": [
              "'2.2.0-rc3'"
            ]
          },
          "metadata": {
            "tags": []
          },
          "execution_count": 4
        }
      ]
    },
    {
      "cell_type": "markdown",
      "metadata": {
        "id": "j6ZbE2lPDIFL"
      },
      "source": [
        "# Etapa 2: Pré-processamento"
      ]
    },
    {
      "cell_type": "markdown",
      "metadata": {
        "id": "T9S77lewDNE1"
      },
      "source": [
        "## Carregamento dos arquivos"
      ]
    },
    {
      "cell_type": "code",
      "metadata": {
        "id": "5hABc0h8GdTe",
        "outputId": "ae26a20a-6e5a-40b8-9a44-7868d268475d",
        "colab": {
          "base_uri": "https://localhost:8080/",
          "height": 121
        }
      },
      "source": [
        "drive.mount(\"/content/drive\")"
      ],
      "execution_count": null,
      "outputs": [
        {
          "output_type": "stream",
          "text": [
            "Go to this URL in a browser: https://accounts.google.com/o/oauth2/auth?client_id=947318989803-6bn6qk8qdgf4n4g3pfee6491hc0brc4i.apps.googleusercontent.com&redirect_uri=urn%3aietf%3awg%3aoauth%3a2.0%3aoob&response_type=code&scope=email%20https%3a%2f%2fwww.googleapis.com%2fauth%2fdocs.test%20https%3a%2f%2fwww.googleapis.com%2fauth%2fdrive%20https%3a%2f%2fwww.googleapis.com%2fauth%2fdrive.photos.readonly%20https%3a%2f%2fwww.googleapis.com%2fauth%2fpeopleapi.readonly\n",
            "\n",
            "Enter your authorization code:\n",
            "··········\n",
            "Mounted at /content/drive\n"
          ],
          "name": "stdout"
        }
      ]
    },
    {
      "cell_type": "code",
      "metadata": {
        "id": "slnILsqwGxTX"
      },
      "source": [
        "cols = [\"sentiment\", \"id\", \"date\", \"query\", \"user\", \"text\"]\n",
        "data = pd.read_csv('/content/drive/My Drive/Base de dados sentimentos.zip (Unzipped Files)/Base de dados sentimentos/training.1600000.processed.noemoticon.csv',\n",
        "                   header = None,\n",
        "                   names = cols,\n",
        "                   engine='python',\n",
        "                   encoding='latin1')"
      ],
      "execution_count": null,
      "outputs": []
    },
    {
      "cell_type": "code",
      "metadata": {
        "id": "REdK4z4YG9kZ"
      },
      "source": [
        "data.drop([\"id\", \"date\", \"query\", \"user\"],\n",
        "          axis=1,\n",
        "          inplace=True)"
      ],
      "execution_count": null,
      "outputs": []
    },
    {
      "cell_type": "code",
      "metadata": {
        "id": "_bNsUauVDAx9",
        "outputId": "511d906c-0e26-44e3-a654-ac41f6d0558e",
        "colab": {
          "base_uri": "https://localhost:8080/",
          "height": 34
        }
      },
      "source": [
        "data.shape"
      ],
      "execution_count": null,
      "outputs": [
        {
          "output_type": "execute_result",
          "data": {
            "text/plain": [
              "(1600000, 2)"
            ]
          },
          "metadata": {
            "tags": []
          },
          "execution_count": 8
        }
      ]
    },
    {
      "cell_type": "code",
      "metadata": {
        "id": "I6F86zv3C-11",
        "outputId": "bd57c6ab-0e2e-4706-8305-c2d59fb34b2c",
        "colab": {
          "base_uri": "https://localhost:8080/",
          "height": 195
        }
      },
      "source": [
        "data.head()"
      ],
      "execution_count": null,
      "outputs": [
        {
          "output_type": "execute_result",
          "data": {
            "text/html": [
              "<div>\n",
              "<style scoped>\n",
              "    .dataframe tbody tr th:only-of-type {\n",
              "        vertical-align: middle;\n",
              "    }\n",
              "\n",
              "    .dataframe tbody tr th {\n",
              "        vertical-align: top;\n",
              "    }\n",
              "\n",
              "    .dataframe thead th {\n",
              "        text-align: right;\n",
              "    }\n",
              "</style>\n",
              "<table border=\"1\" class=\"dataframe\">\n",
              "  <thead>\n",
              "    <tr style=\"text-align: right;\">\n",
              "      <th></th>\n",
              "      <th>sentiment</th>\n",
              "      <th>text</th>\n",
              "    </tr>\n",
              "  </thead>\n",
              "  <tbody>\n",
              "    <tr>\n",
              "      <th>0</th>\n",
              "      <td>0</td>\n",
              "      <td>@switchfoot http://twitpic.com/2y1zl - Awww, t...</td>\n",
              "    </tr>\n",
              "    <tr>\n",
              "      <th>1</th>\n",
              "      <td>0</td>\n",
              "      <td>is upset that he can't update his Facebook by ...</td>\n",
              "    </tr>\n",
              "    <tr>\n",
              "      <th>2</th>\n",
              "      <td>0</td>\n",
              "      <td>@Kenichan I dived many times for the ball. Man...</td>\n",
              "    </tr>\n",
              "    <tr>\n",
              "      <th>3</th>\n",
              "      <td>0</td>\n",
              "      <td>my whole body feels itchy and like its on fire</td>\n",
              "    </tr>\n",
              "    <tr>\n",
              "      <th>4</th>\n",
              "      <td>0</td>\n",
              "      <td>@nationwideclass no, it's not behaving at all....</td>\n",
              "    </tr>\n",
              "  </tbody>\n",
              "</table>\n",
              "</div>"
            ],
            "text/plain": [
              "   sentiment                                               text\n",
              "0          0  @switchfoot http://twitpic.com/2y1zl - Awww, t...\n",
              "1          0  is upset that he can't update his Facebook by ...\n",
              "2          0  @Kenichan I dived many times for the ball. Man...\n",
              "3          0    my whole body feels itchy and like its on fire \n",
              "4          0  @nationwideclass no, it's not behaving at all...."
            ]
          },
          "metadata": {
            "tags": []
          },
          "execution_count": 9
        }
      ]
    },
    {
      "cell_type": "markdown",
      "metadata": {
        "id": "Lz2g61evDZb4"
      },
      "source": [
        "## Pré-processamento"
      ]
    },
    {
      "cell_type": "markdown",
      "metadata": {
        "id": "LCyy4babDrI8"
      },
      "source": [
        "### Limpeza"
      ]
    },
    {
      "cell_type": "code",
      "metadata": {
        "id": "UEyorQS_HArn"
      },
      "source": [
        "def clean_tweet(tweet):\n",
        "    tweet = BeautifulSoup(tweet, \"lxml\").get_text()\n",
        "    tweet = re.sub(r\"@[A-Za-z0-9]+\", ' ', tweet)\n",
        "    tweet = re.sub(r\"https?://[A-Za-z0-9./]+\", ' ', tweet)\n",
        "    tweet = re.sub(r\"[^a-zA-Z.!?']\", ' ', tweet)\n",
        "    tweet = re.sub(r\" +\", ' ', tweet)\n",
        "    return tweet"
      ],
      "execution_count": null,
      "outputs": []
    },
    {
      "cell_type": "code",
      "metadata": {
        "id": "3BlbZpy0HHiV"
      },
      "source": [
        "data_clean = [clean_tweet(tweet) for tweet in data.text]"
      ],
      "execution_count": null,
      "outputs": []
    },
    {
      "cell_type": "code",
      "metadata": {
        "id": "H6SOj46BHKEk"
      },
      "source": [
        "data_labels = data.sentiment.values\n",
        "data_labels[data_labels == 4] = 1"
      ],
      "execution_count": null,
      "outputs": []
    },
    {
      "cell_type": "markdown",
      "metadata": {
        "id": "MJa3YWeJD1gM"
      },
      "source": [
        "### Tokenização"
      ]
    },
    {
      "cell_type": "code",
      "metadata": {
        "id": "0wry-st-HMN0"
      },
      "source": [
        "FullTokenizer = bert.bert_tokenization.FullTokenizer\n",
        "bert_layer = hub.KerasLayer(\"https://tfhub.dev/tensorflow/bert_en_uncased_L-12_H-768_A-12/1\",\n",
        "                            trainable=False)\n",
        "vocab_file = bert_layer.resolved_object.vocab_file.asset_path.numpy()\n",
        "do_lower_case = bert_layer.resolved_object.do_lower_case.numpy()\n",
        "tokenizer = FullTokenizer(vocab_file, do_lower_case)"
      ],
      "execution_count": null,
      "outputs": []
    },
    {
      "cell_type": "code",
      "metadata": {
        "id": "dAwvS1bNmXCo"
      },
      "source": [
        "def encode_sentence(sent):\n",
        "  return [\"[CLS]\"] + tokenizer.tokenize(sent) + [\"[SEP]\"]"
      ],
      "execution_count": null,
      "outputs": []
    },
    {
      "cell_type": "code",
      "metadata": {
        "id": "efeM4ecPmySl",
        "outputId": "9c11f7c8-7b08-4a0c-9cb9-4a16fed0e2bf",
        "colab": {
          "base_uri": "https://localhost:8080/",
          "height": 34
        }
      },
      "source": [
        "encode_sentence(\"My dog likes strawberries.\")"
      ],
      "execution_count": null,
      "outputs": [
        {
          "output_type": "execute_result",
          "data": {
            "text/plain": [
              "['[CLS]', 'my', 'dog', 'likes', 'straw', '##berries', '.', '[SEP]']"
            ]
          },
          "metadata": {
            "tags": []
          },
          "execution_count": 16
        }
      ]
    },
    {
      "cell_type": "code",
      "metadata": {
        "id": "yIQQiZjlm91C"
      },
      "source": [
        "data_inputs = [encode_sentence(sentence) for sentence in data_clean]"
      ],
      "execution_count": null,
      "outputs": []
    },
    {
      "cell_type": "code",
      "metadata": {
        "id": "OhDeFvNGoJec",
        "outputId": "73bfce74-9f96-484c-b0f7-8508142d3ef7",
        "colab": {
          "base_uri": "https://localhost:8080/",
          "height": 54
        }
      },
      "source": [
        "print(data_inputs[0:2])"
      ],
      "execution_count": null,
      "outputs": [
        {
          "output_type": "stream",
          "text": [
            "[['[CLS]', 'aw', '##w', '##w', 'that', \"'\", 's', 'a', 'bum', '##mer', '.', 'you', 'should', '##a', 'got', 'david', 'carr', 'of', 'third', 'day', 'to', 'do', 'it', '.', 'd', '[SEP]'], ['[CLS]', 'is', 'upset', 'that', 'he', 'can', \"'\", 't', 'update', 'his', 'facebook', 'by', 'text', '##ing', 'it', '.', '.', '.', 'and', 'might', 'cry', 'as', 'a', 'result', 'school', 'today', 'also', '.', 'blah', '!', '[SEP]']]\n"
          ],
          "name": "stdout"
        }
      ]
    },
    {
      "cell_type": "markdown",
      "metadata": {
        "id": "z32MeEwnkCB8"
      },
      "source": [
        "### Criação da base de dados"
      ]
    },
    {
      "cell_type": "code",
      "metadata": {
        "id": "nlcZpE8goS6f"
      },
      "source": [
        "def get_ids(tokens):\n",
        "  return tokenizer.convert_tokens_to_ids(tokens)"
      ],
      "execution_count": null,
      "outputs": []
    },
    {
      "cell_type": "code",
      "metadata": {
        "id": "eJ2q_UYWogui",
        "outputId": "a3694fbe-1435-40e4-cdcf-b7e10eff2e09",
        "colab": {
          "base_uri": "https://localhost:8080/",
          "height": 34
        }
      },
      "source": [
        "get_ids(tokenizer.tokenize(\"My dog likes strawberries.\"))"
      ],
      "execution_count": null,
      "outputs": [
        {
          "output_type": "execute_result",
          "data": {
            "text/plain": [
              "[2026, 3899, 7777, 13137, 20968, 1012]"
            ]
          },
          "metadata": {
            "tags": []
          },
          "execution_count": 20
        }
      ]
    },
    {
      "cell_type": "code",
      "metadata": {
        "id": "RDFzOY-fpXvQ",
        "outputId": "b19c129f-6037-43ea-f62f-93687135d79d",
        "colab": {
          "base_uri": "https://localhost:8080/",
          "height": 34
        }
      },
      "source": [
        "np.char.not_equal(\"[PAD]\", \"[PAD]\")"
      ],
      "execution_count": null,
      "outputs": [
        {
          "output_type": "execute_result",
          "data": {
            "text/plain": [
              "array(False)"
            ]
          },
          "metadata": {
            "tags": []
          },
          "execution_count": 21
        }
      ]
    },
    {
      "cell_type": "code",
      "metadata": {
        "id": "BKkjSLElouOD"
      },
      "source": [
        "def get_mask(tokens):\n",
        "  return np.char.not_equal(tokens, \"[PAD]\").astype(int)"
      ],
      "execution_count": null,
      "outputs": []
    },
    {
      "cell_type": "code",
      "metadata": {
        "id": "CNZjB4tGpmie",
        "outputId": "48817c3d-bf05-4089-e616-3bab0f833615",
        "colab": {
          "base_uri": "https://localhost:8080/",
          "height": 34
        }
      },
      "source": [
        "get_mask(tokenizer.tokenize(\"My dog likes strawberries.\"))"
      ],
      "execution_count": null,
      "outputs": [
        {
          "output_type": "execute_result",
          "data": {
            "text/plain": [
              "array([1, 1, 1, 1, 1, 1])"
            ]
          },
          "metadata": {
            "tags": []
          },
          "execution_count": 23
        }
      ]
    },
    {
      "cell_type": "code",
      "metadata": {
        "id": "pE5JsrM4qWFC"
      },
      "source": [
        "def get_segments(tokens):\n",
        "  seg_ids = []\n",
        "  current_seg_id = 0\n",
        "  for tok in tokens:\n",
        "    seg_ids.append(current_seg_id)\n",
        "    if tok == \"[SEP]\":\n",
        "      current_seg_id = 1 - current_seg_id\n",
        "  return seg_ids"
      ],
      "execution_count": null,
      "outputs": []
    },
    {
      "cell_type": "code",
      "metadata": {
        "id": "h-yS-MVlrBL-",
        "outputId": "fed1b702-4171-4454-debf-fe62d6ad045b",
        "colab": {
          "base_uri": "https://localhost:8080/",
          "height": 54
        }
      },
      "source": [
        "print(data_inputs[0])"
      ],
      "execution_count": null,
      "outputs": [
        {
          "output_type": "stream",
          "text": [
            "['[CLS]', 'aw', '##w', '##w', 'that', \"'\", 's', 'a', 'bum', '##mer', '.', 'you', 'should', '##a', 'got', 'david', 'carr', 'of', 'third', 'day', 'to', 'do', 'it', '.', 'd', '[SEP]']\n"
          ],
          "name": "stdout"
        }
      ]
    },
    {
      "cell_type": "code",
      "metadata": {
        "id": "fD8l4tu7rFle",
        "outputId": "f2cf87e2-7890-4873-871e-30d397f53079",
        "colab": {
          "base_uri": "https://localhost:8080/",
          "height": 34
        }
      },
      "source": [
        "get_segments(data_inputs[0])"
      ],
      "execution_count": null,
      "outputs": [
        {
          "output_type": "execute_result",
          "data": {
            "text/plain": [
              "[0, 0, 0, 0, 0, 0, 0, 0, 0, 0, 0, 0, 0, 0, 0, 0, 0, 0, 0, 0, 0, 0, 0, 0, 0, 0]"
            ]
          },
          "metadata": {
            "tags": []
          },
          "execution_count": 26
        }
      ]
    },
    {
      "cell_type": "code",
      "metadata": {
        "id": "CZLiezqersLr",
        "outputId": "a2fc152e-75e5-4b1a-d697-17e8f75f2068",
        "colab": {
          "base_uri": "https://localhost:8080/",
          "height": 34
        }
      },
      "source": [
        "my_sent = [\"[CLS]\"] + tokenizer.tokenize(\"Roses are red.\") + [\"[SEP]\"]\n",
        "my_sent"
      ],
      "execution_count": null,
      "outputs": [
        {
          "output_type": "execute_result",
          "data": {
            "text/plain": [
              "['[CLS]', 'roses', 'are', 'red', '.', '[SEP]']"
            ]
          },
          "metadata": {
            "tags": []
          },
          "execution_count": 27
        }
      ]
    },
    {
      "cell_type": "code",
      "metadata": {
        "id": "S6ZYXw8Kr44J",
        "outputId": "ed5e6a94-66f6-41de-c72d-a199594757f9",
        "colab": {
          "base_uri": "https://localhost:8080/",
          "height": 1000
        }
      },
      "source": [
        "bert_layer([\n",
        "            tf.expand_dims(tf.cast(get_ids(my_sent), tf.int32), 0),\n",
        "            tf.expand_dims(tf.cast(get_mask(my_sent), tf.int32), 0),\n",
        "            tf.expand_dims(tf.cast(get_segments(my_sent), tf.int32), 0) \n",
        "           ])"
      ],
      "execution_count": null,
      "outputs": [
        {
          "output_type": "execute_result",
          "data": {
            "text/plain": [
              "[<tf.Tensor: shape=(1, 768), dtype=float32, numpy=\n",
              " array([[-9.27935660e-01, -4.10335451e-01, -9.65755105e-01,\n",
              "          9.07317996e-01,  8.12913895e-01, -1.74174488e-01,\n",
              "          9.11234617e-01,  3.41952324e-01, -8.74521315e-01,\n",
              "         -9.99989271e-01, -7.78410017e-01,  9.69385266e-01,\n",
              "          9.86160517e-01,  6.36963248e-01,  9.48631346e-01,\n",
              "         -7.51193345e-01, -4.58339751e-01, -7.08104610e-01,\n",
              "          4.62098449e-01, -6.57927275e-01,  7.60414600e-01,\n",
              "          9.99994814e-01, -3.96861047e-01,  3.44166338e-01,\n",
              "          6.16488695e-01,  9.94400024e-01, -7.76633859e-01,\n",
              "          9.38316584e-01,  9.59452331e-01,  7.32879400e-01,\n",
              "         -6.93436861e-01,  2.93080568e-01, -9.93785501e-01,\n",
              "         -1.64551944e-01, -9.67019558e-01, -9.95549560e-01,\n",
              "          5.32935560e-01, -6.88061118e-01,  1.34714106e-02,\n",
              "          2.98194252e-02, -9.18356597e-01,  4.20526385e-01,\n",
              "          9.99988914e-01,  2.52676487e-01,  6.06235623e-01,\n",
              "         -3.50750178e-01, -1.00000000e+00,  4.97585475e-01,\n",
              "         -8.95187438e-01,  9.62561011e-01,  9.43730652e-01,\n",
              "          9.03285623e-01,  1.54699683e-01,  5.86143732e-01,\n",
              "          5.80860615e-01, -4.05053228e-01, -2.76640393e-02,\n",
              "          2.98046023e-01, -2.83075899e-01, -6.47424459e-01,\n",
              "         -6.51523709e-01,  5.43847561e-01, -9.56302106e-01,\n",
              "         -9.22750413e-01,  9.61462975e-01,  8.27475369e-01,\n",
              "         -3.50112677e-01, -4.06405836e-01, -8.74319822e-02,\n",
              "         -9.98739675e-02,  8.96688342e-01,  3.00931662e-01,\n",
              "         -1.51129514e-01, -8.52713585e-01,  8.09592485e-01,\n",
              "          4.00989324e-01, -6.61606073e-01,  1.00000000e+00,\n",
              "         -6.16246581e-01, -9.86407161e-01,  8.90943050e-01,\n",
              "          8.11157644e-01,  5.81394672e-01, -6.33873343e-01,\n",
              "          3.78197879e-01, -1.00000000e+00,  6.76351428e-01,\n",
              "         -2.30612710e-01, -9.92552459e-01,  3.85461390e-01,\n",
              "          6.57650948e-01, -2.90105760e-01,  4.46832478e-01,\n",
              "          6.28524184e-01, -5.58409274e-01, -6.65295124e-01,\n",
              "         -4.72272366e-01, -9.28039312e-01, -3.54472637e-01,\n",
              "         -6.19736195e-01,  1.24535099e-01, -3.48905712e-01,\n",
              "         -4.23184365e-01, -4.20834929e-01,  4.56588656e-01,\n",
              "         -6.14470959e-01, -5.15243471e-01,  5.01909971e-01,\n",
              "          4.29147512e-01,  7.59822011e-01,  4.37516600e-01,\n",
              "         -4.33598489e-01,  6.30962133e-01, -9.59743142e-01,\n",
              "          7.73877501e-01, -3.95737946e-01, -9.87354457e-01,\n",
              "         -6.73180282e-01, -9.92996395e-01,  7.77800322e-01,\n",
              "         -5.05856514e-01, -3.19991231e-01,  9.69388783e-01,\n",
              "         -3.51620644e-01,  3.79092157e-01, -2.21649513e-01,\n",
              "         -9.51505721e-01, -1.00000000e+00, -8.80426884e-01,\n",
              "         -8.34713101e-01, -2.77321607e-01, -4.70461398e-01,\n",
              "         -9.83711958e-01, -9.56730306e-01,  6.61121011e-01,\n",
              "          9.56025839e-01,  1.62189186e-01,  9.99961436e-01,\n",
              "         -5.11206031e-01,  9.59530592e-01, -5.58610201e-01,\n",
              "         -8.00221145e-01,  8.48543942e-01, -5.58320343e-01,\n",
              "          8.33738506e-01,  2.63149589e-01, -7.33846903e-01,\n",
              "          3.16189766e-01, -4.83306468e-01,  6.87450290e-01,\n",
              "         -7.94889927e-01, -3.81298423e-01, -8.71706069e-01,\n",
              "         -9.49488103e-01, -3.62460285e-01,  9.51175690e-01,\n",
              "         -7.62520790e-01, -9.61278081e-01, -1.53293997e-01,\n",
              "         -4.02463645e-01, -5.69815695e-01,  8.52475882e-01,\n",
              "          7.99818039e-01,  5.33586562e-01, -6.96546733e-01,\n",
              "          4.84272480e-01,  2.24440902e-01,  7.31195331e-01,\n",
              "         -8.18208098e-01, -3.58149678e-01,  5.32028615e-01,\n",
              "         -4.41676170e-01, -9.25720930e-01, -9.87607300e-01,\n",
              "         -5.07007957e-01,  5.31485677e-01,  9.93827105e-01,\n",
              "          7.66175330e-01,  4.12393332e-01,  8.83270264e-01,\n",
              "         -3.85666698e-01,  8.81850302e-01, -9.67345178e-01,\n",
              "          9.86407459e-01, -3.13535720e-01,  3.57363969e-01,\n",
              "         -6.57590568e-01,  2.70097435e-01, -8.59112978e-01,\n",
              "          2.32004032e-01,  8.62853110e-01, -9.03662443e-01,\n",
              "         -7.94610143e-01, -2.82699376e-01, -4.76583868e-01,\n",
              "         -5.01097441e-01, -8.80422413e-01,  5.45586228e-01,\n",
              "         -4.41977590e-01, -5.77728987e-01, -1.25810206e-01,\n",
              "          9.06032026e-01,  9.80562210e-01,  8.44253480e-01,\n",
              "          5.20119786e-01,  7.80579507e-01, -9.23414350e-01,\n",
              "         -5.87243915e-01,  2.34754667e-01,  2.97746867e-01,\n",
              "          3.54463905e-01,  9.96218681e-01, -8.01237464e-01,\n",
              "         -2.79998600e-01, -9.39948916e-01, -9.83751893e-01,\n",
              "          3.82994339e-02, -9.28821921e-01, -2.94138074e-01,\n",
              "         -7.00600982e-01,  7.67863929e-01, -3.51922482e-01,\n",
              "          6.57684147e-01,  5.54107249e-01, -9.90459263e-01,\n",
              "         -7.80434191e-01,  5.50272942e-01, -5.03933191e-01,\n",
              "          5.56852818e-01, -3.53224456e-01,  7.86349952e-01,\n",
              "          9.69607174e-01, -6.54102087e-01,  7.34233141e-01,\n",
              "          8.81996632e-01, -9.14772153e-01, -7.82534778e-01,\n",
              "          8.52741361e-01, -4.38667893e-01,  8.24172258e-01,\n",
              "         -7.77354598e-01,  9.91627038e-01,  9.48048592e-01,\n",
              "          7.74401844e-01, -9.52811897e-01, -7.52400339e-01,\n",
              "         -8.65391195e-01, -8.10665250e-01, -1.91085562e-01,\n",
              "          6.22542314e-02,  9.39342856e-01,  6.60155177e-01,\n",
              "          5.10393262e-01,  3.03855419e-01, -7.58786142e-01,\n",
              "          9.97947216e-01, -8.39390695e-01, -9.73821700e-01,\n",
              "         -6.96808338e-01, -4.71226275e-01, -9.92139876e-01,\n",
              "          9.27336991e-01,  3.11118335e-01,  6.17148757e-01,\n",
              "         -5.93245506e-01, -7.30744243e-01, -9.74081218e-01,\n",
              "          9.14184093e-01,  2.35107109e-01,  9.90232766e-01,\n",
              "         -4.98075902e-01, -9.59739566e-01, -7.62371302e-01,\n",
              "         -9.30913448e-01, -4.32066694e-02, -2.13116333e-01,\n",
              "         -6.06085360e-01, -2.81608663e-02, -9.69718456e-01,\n",
              "          6.36244297e-01,  6.35316491e-01,  5.37905693e-01,\n",
              "         -8.91036153e-01,  9.99303162e-01,  1.00000000e+00,\n",
              "          9.73003745e-01,  9.01396990e-01,  8.87466669e-01,\n",
              "         -9.99958754e-01, -6.90021992e-01,  9.99997973e-01,\n",
              "         -9.93730545e-01, -1.00000000e+00, -9.37510908e-01,\n",
              "         -8.12253356e-01,  2.70661145e-01, -1.00000000e+00,\n",
              "         -2.87079155e-01, -1.50920406e-01, -9.31140423e-01,\n",
              "          8.18554997e-01,  9.78329003e-01,  9.94965553e-01,\n",
              "         -1.00000000e+00,  8.81453693e-01,  9.30843234e-01,\n",
              "         -7.06026852e-01,  9.76767182e-01, -6.08330250e-01,\n",
              "          9.75543499e-01,  5.93019485e-01,  5.54319382e-01,\n",
              "         -2.44307384e-01,  4.22843724e-01, -9.68066394e-01,\n",
              "         -9.14158523e-01, -7.75702894e-01, -7.79753447e-01,\n",
              "          9.98873413e-01,  2.67525941e-01, -7.70681143e-01,\n",
              "         -9.30970430e-01,  6.98258519e-01, -1.79436222e-01,\n",
              "          1.48644879e-01, -9.69404399e-01, -3.27199727e-01,\n",
              "          7.69222677e-01,  8.38437557e-01,  2.74363339e-01,\n",
              "          4.46673840e-01, -6.88234091e-01,  4.38525379e-01,\n",
              "         -6.96208626e-02,  2.83885598e-01,  6.96684837e-01,\n",
              "         -9.55272734e-01, -5.49684644e-01, -3.89561504e-01,\n",
              "          3.75222921e-01, -7.64762163e-01, -9.54123020e-01,\n",
              "          9.69721258e-01, -4.86066729e-01,  9.72205758e-01,\n",
              "          1.00000000e+00,  7.64813542e-01, -9.13303673e-01,\n",
              "          6.57082677e-01,  4.31852192e-01, -7.01079428e-01,\n",
              "          1.00000000e+00,  8.67337167e-01, -9.83669639e-01,\n",
              "         -5.84471822e-01,  7.79540956e-01, -6.77890122e-01,\n",
              "         -7.74523914e-01,  9.99660969e-01, -3.41093242e-01,\n",
              "         -8.14479947e-01, -6.48069501e-01,  9.86273110e-01,\n",
              "         -9.94089246e-01,  9.97643113e-01, -8.94537866e-01,\n",
              "         -9.79997218e-01,  9.60477829e-01,  9.49231982e-01,\n",
              "         -6.83828235e-01, -7.17898786e-01,  2.86706895e-01,\n",
              "         -7.60040939e-01,  4.78332579e-01, -9.51963425e-01,\n",
              "          8.08321357e-01,  5.27614236e-01, -1.67665988e-01,\n",
              "          9.16268110e-01, -8.87899160e-01, -5.93430996e-01,\n",
              "          3.90308112e-01, -7.76923299e-01, -3.84818643e-01,\n",
              "          9.59038198e-01,  6.78381324e-01, -4.08702880e-01,\n",
              "         -1.99679527e-02, -4.68428701e-01, -7.41143286e-01,\n",
              "         -9.73734438e-01,  6.23254180e-01,  1.00000000e+00,\n",
              "         -4.31855559e-01,  8.94348741e-01, -5.72569549e-01,\n",
              "         -1.89500768e-02,  7.24835470e-02,  6.05421424e-01,\n",
              "          5.64564228e-01, -5.04035056e-01, -8.33653212e-01,\n",
              "          9.20378625e-01, -9.70664799e-01, -9.92627263e-01,\n",
              "          8.63119543e-01,  2.32818514e-01, -3.05338591e-01,\n",
              "          9.99999225e-01,  6.51024580e-01,  3.69558990e-01,\n",
              "          5.16951978e-01,  9.89937425e-01, -5.10575101e-02,\n",
              "          5.19780993e-01,  9.13519561e-01,  9.89344239e-01,\n",
              "         -4.06514466e-01,  6.72227621e-01,  8.66246223e-01,\n",
              "         -9.63320851e-01, -3.93905520e-01, -7.32534289e-01,\n",
              "          6.66501448e-02, -9.50429142e-01,  5.36764041e-02,\n",
              "         -9.64523673e-01,  9.78591204e-01,  9.72525179e-01,\n",
              "          5.02413094e-01,  3.42612803e-01,  8.20066988e-01,\n",
              "          1.00000000e+00, -8.37067723e-01,  5.97411513e-01,\n",
              "         -4.17202055e-01,  8.81286144e-01, -9.99911010e-01,\n",
              "         -8.37778211e-01, -4.66962218e-01, -2.72496849e-01,\n",
              "         -9.03814495e-01, -4.58637893e-01,  3.91833603e-01,\n",
              "         -9.79059398e-01,  9.10196304e-01,  8.29555511e-01,\n",
              "         -9.92893636e-01, -9.93933320e-01, -5.58821440e-01,\n",
              "          7.86012292e-01,  2.98601002e-01, -9.94314432e-01,\n",
              "         -8.16725373e-01, -6.58431947e-01,  9.07821894e-01,\n",
              "         -4.84596074e-01, -9.59578753e-01, -5.24700880e-01,\n",
              "         -4.26523358e-01,  5.39447427e-01, -3.51429671e-01,\n",
              "          6.03988051e-01,  8.84236634e-01,  6.91960573e-01,\n",
              "         -7.73553789e-01, -3.49987060e-01, -1.82106197e-01,\n",
              "         -8.09592664e-01,  9.06841516e-01, -8.09706271e-01,\n",
              "         -9.76247668e-01, -2.70705640e-01,  1.00000000e+00,\n",
              "         -5.54332733e-01,  8.93760324e-01,  7.55229771e-01,\n",
              "          7.80316472e-01, -1.99225500e-01,  3.35151255e-01,\n",
              "          9.55944121e-01,  3.82269830e-01, -7.57196605e-01,\n",
              "         -9.39320028e-01, -6.35581732e-01, -6.07329130e-01,\n",
              "          7.00572014e-01,  7.23613381e-01,  7.29011059e-01,\n",
              "          8.65883708e-01,  7.64537692e-01,  2.08821118e-01,\n",
              "         -6.98529184e-02, -5.64152782e-04,  9.99799311e-01,\n",
              "         -4.44100112e-01, -1.80671528e-01, -4.89859819e-01,\n",
              "         -2.91431457e-01, -4.25409287e-01, -1.98750094e-01,\n",
              "          1.00000000e+00,  3.56602103e-01,  7.75661588e-01,\n",
              "         -9.93823767e-01, -9.28071022e-01, -9.31738555e-01,\n",
              "          1.00000000e+00,  8.50040436e-01, -7.60715902e-01,\n",
              "          7.18036592e-01,  7.75469184e-01, -1.75162107e-01,\n",
              "          8.09469461e-01, -3.36547881e-01, -3.02385300e-01,\n",
              "          4.57468003e-01,  3.08043838e-01,  9.70232069e-01,\n",
              "         -6.18904114e-01, -9.75721240e-01, -5.94949007e-01,\n",
              "          5.63391089e-01, -9.66651201e-01,  9.99981284e-01,\n",
              "         -6.10340595e-01, -3.60575169e-01, -4.96435910e-01,\n",
              "         -4.91436779e-01,  4.47817594e-01,  2.87389271e-02,\n",
              "         -9.83154774e-01, -3.47387552e-01,  3.09110790e-01,\n",
              "          9.66639042e-01,  3.75864297e-01, -6.41106725e-01,\n",
              "         -8.90264869e-01,  8.92269313e-01,  8.32000077e-01,\n",
              "         -9.59132135e-01, -9.57766473e-01,  9.71166372e-01,\n",
              "         -9.84971166e-01,  7.67819405e-01,  1.00000000e+00,\n",
              "          3.83998990e-01,  4.38051492e-01,  3.52292627e-01,\n",
              "         -4.46136683e-01,  4.46569413e-01, -6.90631628e-01,\n",
              "          6.74425721e-01, -9.59155858e-01, -4.53285128e-01,\n",
              "         -2.96152800e-01,  3.57684493e-01, -2.41154656e-01,\n",
              "         -5.88313997e-01,  7.63308346e-01,  3.13667417e-01,\n",
              "         -6.03100657e-01, -6.84795618e-01, -2.60147333e-01,\n",
              "          5.75160384e-01,  9.16844308e-01, -3.56800258e-01,\n",
              "         -2.31558025e-01,  1.15727872e-01, -1.77119121e-01,\n",
              "         -9.47563589e-01, -5.23142159e-01, -6.04617953e-01,\n",
              "         -9.99998629e-01,  5.41668177e-01, -1.00000000e+00,\n",
              "          6.60002112e-01,  3.39036465e-01, -2.57962435e-01,\n",
              "          8.98434043e-01,  3.58503848e-01,  7.80092001e-01,\n",
              "         -8.63456190e-01, -9.04243767e-01,  2.35173956e-01,\n",
              "          8.47542226e-01, -4.83705133e-01, -7.76437521e-01,\n",
              "         -7.77086973e-01,  4.51547056e-01, -1.20644167e-01,\n",
              "          3.45338047e-01, -7.58304715e-01,  7.38663554e-01,\n",
              "         -2.54878521e-01,  1.00000000e+00,  1.56726837e-01,\n",
              "         -6.47173047e-01, -9.80846524e-01,  3.21544975e-01,\n",
              "         -3.49480122e-01,  1.00000000e+00, -8.88086319e-01,\n",
              "         -9.70758855e-01,  4.17614162e-01, -6.59506440e-01,\n",
              "         -8.39061677e-01,  4.56446052e-01,  7.08392560e-02,\n",
              "         -8.59648943e-01, -9.68725741e-01,  9.56583977e-01,\n",
              "          8.95311177e-01, -6.79162562e-01,  7.91996241e-01,\n",
              "         -3.77204984e-01, -5.99682689e-01,  1.89219370e-01,\n",
              "          9.34770465e-01,  9.87944543e-01,  7.07965195e-01,\n",
              "          9.21087980e-01, -1.59540951e-01, -4.83467579e-01,\n",
              "          9.76640463e-01,  2.95252204e-01,  5.32053590e-01,\n",
              "          3.22658330e-01,  1.00000000e+00,  4.97991860e-01,\n",
              "         -9.31000888e-01, -3.24744612e-01, -9.82841671e-01,\n",
              "         -2.67996371e-01, -9.52166200e-01,  4.53916937e-01,\n",
              "          3.94372553e-01,  9.26190257e-01, -3.09752345e-01,\n",
              "          9.69366491e-01, -9.40263808e-01,  1.66798592e-01,\n",
              "         -8.32233191e-01, -7.04411149e-01,  5.49370646e-01,\n",
              "         -9.30373549e-01, -9.88702416e-01, -9.91572261e-01,\n",
              "          7.38682747e-01, -5.26327193e-01, -9.29532349e-02,\n",
              "          2.77956069e-01,  2.54385680e-01,  5.55893183e-01,\n",
              "          5.70780516e-01, -1.00000000e+00,  9.51999664e-01,\n",
              "          5.82980990e-01,  9.13394094e-01,  9.78624463e-01,\n",
              "          7.49032378e-01,  7.39971936e-01,  3.71186584e-01,\n",
              "         -9.89660680e-01, -9.84848559e-01, -5.31397939e-01,\n",
              "         -3.88979644e-01,  8.49413812e-01,  8.17017198e-01,\n",
              "          8.92696917e-01,  6.16892278e-01, -5.75284600e-01,\n",
              "         -2.86467791e-01, -7.60570645e-01, -7.78939605e-01,\n",
              "         -9.94441688e-01,  5.72188377e-01, -7.72194982e-01,\n",
              "         -9.57696319e-01,  9.67420816e-01, -2.17979059e-01,\n",
              "         -1.75552800e-01, -3.26557249e-01, -9.06777978e-01,\n",
              "          9.35597539e-01,  7.66239643e-01,  1.90596297e-01,\n",
              "          1.53928950e-01,  5.40217578e-01,  9.02483642e-01,\n",
              "          9.40388978e-01,  9.88884807e-01, -9.10143971e-01,\n",
              "          7.88360000e-01, -8.31383109e-01,  6.11195445e-01,\n",
              "          8.21669221e-01, -9.41967785e-01,  3.75133365e-01,\n",
              "          5.49406052e-01, -6.15318477e-01,  3.91501993e-01,\n",
              "         -3.66627395e-01, -9.74752426e-01,  8.88878345e-01,\n",
              "         -3.62838209e-01,  6.53205872e-01, -5.35069942e-01,\n",
              "         -2.21283641e-02, -4.40158248e-01, -3.87567401e-01,\n",
              "         -7.89354980e-01, -6.70902669e-01,  6.87370062e-01,\n",
              "          4.34680313e-01,  9.07510996e-01,  9.13954139e-01,\n",
              "         -1.07544996e-01, -8.54991972e-01, -3.22966069e-01,\n",
              "         -7.80992687e-01, -9.35075462e-01,  9.56621170e-01,\n",
              "         -2.46967420e-01, -1.84675902e-01,  7.18141913e-01,\n",
              "          1.66834295e-01,  9.54272628e-01,  5.20279348e-01,\n",
              "         -5.11346579e-01, -3.58430654e-01, -7.76734710e-01,\n",
              "          9.01378989e-01, -6.45810604e-01, -6.68203354e-01,\n",
              "         -6.79575682e-01,  8.30889583e-01,  4.56940055e-01,\n",
              "          9.99998212e-01, -8.61587405e-01, -9.52708602e-01,\n",
              "         -5.74054956e-01, -4.75623608e-01,  5.11585951e-01,\n",
              "         -7.02607572e-01, -1.00000000e+00,  5.05624413e-01,\n",
              "         -6.52046204e-01,  8.13730776e-01, -8.72139275e-01,\n",
              "          8.09319913e-01, -8.18222165e-01, -9.88196373e-01,\n",
              "         -4.00082648e-01,  3.38945985e-01,  7.67013848e-01,\n",
              "         -5.16353011e-01, -8.75940919e-01,  6.15952253e-01,\n",
              "         -7.52709925e-01,  9.89328504e-01,  8.95710826e-01,\n",
              "         -6.14250600e-01,  2.19650045e-01,  7.52754331e-01,\n",
              "         -8.20389867e-01, -8.05691361e-01,  9.38039362e-01]], dtype=float32)>,\n",
              " <tf.Tensor: shape=(1, 6, 768), dtype=float32, numpy=\n",
              " array([[[-0.07947466,  0.00580757, -0.3141405 , ..., -0.45097274,\n",
              "           0.29333162,  0.23387665],\n",
              "         [ 0.39316067,  0.5033639 ,  0.24021463, ..., -0.3263564 ,\n",
              "           0.34986058,  0.2067324 ],\n",
              "         [ 0.35789207,  0.10767165, -0.04988881, ..., -0.5082275 ,\n",
              "           0.25048894, -0.26268765],\n",
              "         [-0.2989211 , -0.24708788,  0.07151496, ..., -0.3381005 ,\n",
              "           0.12699544, -0.0968189 ],\n",
              "         [-0.36815402, -0.71465254, -0.21032572, ...,  0.3539519 ,\n",
              "           0.33438614, -0.6233477 ],\n",
              "         [ 0.8869223 , -0.16996975, -0.29173654, ...,  0.05816454,\n",
              "          -0.5775985 , -0.3207529 ]]], dtype=float32)>]"
            ]
          },
          "metadata": {
            "tags": []
          },
          "execution_count": 28
        }
      ]
    },
    {
      "cell_type": "code",
      "metadata": {
        "id": "Mbw_VIA4uDCX"
      },
      "source": [
        "data_with_len = [[sent, data_labels[i], len(sent)]\n",
        "                 for i, sent in enumerate(data_inputs)]\n",
        "random.shuffle(data_with_len)\n",
        "data_with_len.sort(key = lambda x: x[2])\n",
        "sorted_all = [([get_ids(sent_lab[0]),\n",
        "               get_mask(sent_lab[0]),\n",
        "               get_segments(sent_lab[0])],\n",
        "              sent_lab[1])\n",
        "              for sent_lab in data_with_len if sent_lab[2] > 7]"
      ],
      "execution_count": null,
      "outputs": []
    },
    {
      "cell_type": "code",
      "metadata": {
        "id": "ZkMiqmzsfo6a"
      },
      "source": [
        "all_dataset = tf.data.Dataset.from_generator(lambda: sorted_all,\n",
        "                                             output_types=(tf.int32, tf.int32))"
      ],
      "execution_count": null,
      "outputs": []
    },
    {
      "cell_type": "code",
      "metadata": {
        "id": "gkGWlzeOfos6"
      },
      "source": [
        "BATCH_SIZE = 32\n",
        "all_batched = all_dataset.padded_batch(BATCH_SIZE,\n",
        "                                       padded_shapes=((3, None), ()),\n",
        "                                       padding_values=(0, 0))"
      ],
      "execution_count": null,
      "outputs": []
    },
    {
      "cell_type": "code",
      "metadata": {
        "id": "5aA7it--hHl4"
      },
      "source": [
        "NB_BATCHES = len(sorted_all) // BATCH_SIZE\n",
        "NB_BATCHES_TEST = NB_BATCHES // 10\n",
        "all_batched.shuffle(NB_BATCHES)\n",
        "test_dataset = all_batched.take(NB_BATCHES_TEST)\n",
        "train_dataset = all_batched.skip(NB_BATCHES_TEST)"
      ],
      "execution_count": null,
      "outputs": []
    },
    {
      "cell_type": "markdown",
      "metadata": {
        "id": "N2pxAPFxGe8r"
      },
      "source": [
        "# Etapa 3: Construção do modelo"
      ]
    },
    {
      "cell_type": "code",
      "metadata": {
        "id": "L6DD3k3qPLDQ"
      },
      "source": [
        "class DCNNBERTEmbedding(tf.keras.Model):\n",
        "    \n",
        "    def __init__(self,\n",
        "                 nb_filters=50,\n",
        "                 FFN_units=512,\n",
        "                 nb_classes=2,\n",
        "                 dropout_rate=0.1,\n",
        "                 name=\"dcnn\"):\n",
        "        super(DCNNBERTEmbedding, self).__init__(name=name)\n",
        "        \n",
        "        self.bert_layer = hub.KerasLayer(\"https://tfhub.dev/tensorflow/bert_en_uncased_L-12_H-768_A-12/1\",\n",
        "                                         trainable = False)\n",
        "\n",
        "        self.bigram = layers.Conv1D(filters=nb_filters,\n",
        "                                    kernel_size=2,\n",
        "                                    padding=\"valid\",\n",
        "                                    activation=\"relu\")\n",
        "        self.trigram = layers.Conv1D(filters=nb_filters,\n",
        "                                     kernel_size=3,\n",
        "                                     padding=\"valid\",\n",
        "                                     activation=\"relu\")\n",
        "        self.fourgram = layers.Conv1D(filters=nb_filters,\n",
        "                                      kernel_size=4,\n",
        "                                      padding=\"valid\",\n",
        "                                      activation=\"relu\")\n",
        "        self.pool = layers.GlobalMaxPool1D()\n",
        "        self.dense_1 = layers.Dense(units=FFN_units, activation=\"relu\")\n",
        "        self.dropout = layers.Dropout(rate=dropout_rate)\n",
        "        if nb_classes == 2:\n",
        "            self.last_dense = layers.Dense(units=1,\n",
        "                                           activation=\"sigmoid\")\n",
        "        else:\n",
        "            self.last_dense = layers.Dense(units=nb_classes,\n",
        "                                           activation=\"softmax\")\n",
        "    \n",
        "    def embed_with_bert(self, all_tokens):\n",
        "      _, embs = self.bert_layer([all_tokens[:, 0, :],\n",
        "                                 all_tokens[:, 1, :],\n",
        "                                 all_tokens[:, 2, :]])\n",
        "      return embs\n",
        "\n",
        "    def call(self, inputs, training):\n",
        "        x = self.embed_with_bert(inputs)\n",
        "        \n",
        "        x_1 = self.bigram(x)\n",
        "        x_1 = self.pool(x_1)\n",
        "        x_2 = self.trigram(x)\n",
        "        x_2 = self.pool(x_2)\n",
        "        x_3 = self.fourgram(x)\n",
        "        x_3 = self.pool(x_3)\n",
        "        \n",
        "        merged = tf.concat([x_1, x_2, x_3], axis=-1) # (batch_size, 3 * nb_filters)\n",
        "        merged = self.dense_1(merged)\n",
        "        merged = self.dropout(merged, training)\n",
        "        output = self.last_dense(merged)\n",
        "        \n",
        "        return output"
      ],
      "execution_count": null,
      "outputs": []
    },
    {
      "cell_type": "markdown",
      "metadata": {
        "id": "hsWpzQz2IQvJ"
      },
      "source": [
        "# Etapa 4: Treinamento"
      ]
    },
    {
      "cell_type": "code",
      "metadata": {
        "id": "lhfUFvWEPOIf"
      },
      "source": [
        "NB_FILTERS = 100\n",
        "FFN_UNITS = 256\n",
        "NB_CLASSES = 2\n",
        "DROPOUT_RATE = 0.2\n",
        "BATCH_SIZE = 32\n",
        "NB_EPOCHS = 5"
      ],
      "execution_count": null,
      "outputs": []
    },
    {
      "cell_type": "code",
      "metadata": {
        "id": "5HPbZ72KPPnX"
      },
      "source": [
        "Dcnn = DCNNBERTEmbedding(nb_filters=NB_FILTERS,\n",
        "                         FFN_units=FFN_UNITS,\n",
        "                         nb_classes=NB_CLASSES,\n",
        "                         dropout_rate=DROPOUT_RATE)"
      ],
      "execution_count": null,
      "outputs": []
    },
    {
      "cell_type": "code",
      "metadata": {
        "id": "JpHDseF0QLl3"
      },
      "source": [
        "if NB_CLASSES == 2:\n",
        "    Dcnn.compile(loss=\"binary_crossentropy\",\n",
        "                 optimizer=\"adam\",\n",
        "                 metrics=[\"accuracy\"])\n",
        "else:\n",
        "    Dcnn.compile(loss=\"sparse_categorical_crossentropy\",\n",
        "                 optimizer=\"adam\",\n",
        "                 metrics=[\"sparse_categorical_accuracy\"])"
      ],
      "execution_count": null,
      "outputs": []
    },
    {
      "cell_type": "code",
      "metadata": {
        "id": "K1hdT_JT2Rfi",
        "outputId": "591dabff-cee9-4c73-8885-e31570ddd16b",
        "colab": {
          "base_uri": "https://localhost:8080/",
          "height": 34
        }
      },
      "source": [
        "checkpoint_path = \"/content/drive/My Drive/Cursos - recursos\"\n",
        "\n",
        "ckpt = tf.train.Checkpoint(Dcnn=Dcnn)\n",
        "\n",
        "ckpt_manager = tf.train.CheckpointManager(ckpt, checkpoint_path, max_to_keep=1)\n",
        "\n",
        "if ckpt_manager.latest_checkpoint:\n",
        "    ckpt.restore(ckpt_manager.latest_checkpoint)\n",
        "    print(\"Latest checkpoint restored!!\")"
      ],
      "execution_count": null,
      "outputs": [
        {
          "output_type": "stream",
          "text": [
            "Latest checkpoint restored!!\n"
          ],
          "name": "stdout"
        }
      ]
    },
    {
      "cell_type": "code",
      "metadata": {
        "id": "e8LHztku2cjl"
      },
      "source": [
        "class MyCustomCallback(tf.keras.callbacks.Callback):\n",
        "\n",
        "    def on_epoch_end(self, epoch, logs=None):\n",
        "        ckpt_manager.save()\n",
        "        print(\"Checkpoint saved at {}.\".format(checkpoint_path))"
      ],
      "execution_count": null,
      "outputs": []
    },
    {
      "cell_type": "code",
      "metadata": {
        "id": "WrT8oWZzQNmW"
      },
      "source": [
        "history = Dcnn.fit(train_dataset,\n",
        "                   epochs=NB_EPOCHS,\n",
        "                   callbacks=[MyCustomCallback()])"
      ],
      "execution_count": null,
      "outputs": []
    },
    {
      "cell_type": "markdown",
      "metadata": {
        "id": "1CdL-Qb00czr"
      },
      "source": [
        "Epoch 1/5\n",
        "  40623/Unknown - 2999s 74ms/step - loss: 0.3973 - accuracy: 0.8219Checkpoint saved at /content/drive/My Drive/Cursos - recursos.\n",
        "40623/40623 [==============================] - 3001s 74ms/step - loss: 0.3973 - accuracy: 0.8219\n",
        "Epoch 2/5\n",
        "40623/40623 [==============================] - ETA: 0s - loss: 0.3756 - accuracy: 0.8339Checkpoint saved at /content/drive/My Drive/Cursos - recursos.\n",
        "40623/40623 [==============================] - 2987s 74ms/step - loss: 0.3756 - accuracy: 0.8339\n",
        "Epoch 3/5\n",
        "40623/40623 [==============================] - ETA: 0s - loss: 0.3659 - accuracy: 0.8391Checkpoint saved at /content/drive/My Drive/Cursos - recursos.\n",
        "40623/40623 [==============================] - 2979s 73ms/step - loss: 0.3659 - accuracy: 0.8391\n",
        "Epoch 4/5\n",
        "40623/40623 [==============================] - ETA: 0s - loss: 0.3586 - accuracy: 0.8426Checkpoint saved at /content/drive/My Drive/Cursos - recursos.\n",
        "40623/40623 [==============================] - 2969s 73ms/step - loss: 0.3586 - accuracy: 0.8426\n",
        "Epoch 5/5\n",
        "40623/40623 [==============================] - ETA: 0s - loss: 0.3527 - accuracy: 0.8454Checkpoint saved at /content/drive/My Drive/Cursos - recursos.\n",
        "40623/40623 [==============================] - 2960s 73ms/step - loss: 0.3527 - accuracy: 0.8454\n",
        "<tensorflow.python.keras.callbacks.History at 0x7fd363ef4080>"
      ]
    },
    {
      "cell_type": "markdown",
      "metadata": {
        "id": "MAb_ijA5Idmz"
      },
      "source": [
        "# Etapa 5: Avaliação do modelo"
      ]
    },
    {
      "cell_type": "code",
      "metadata": {
        "id": "J40Z7iWIBR4l",
        "outputId": "8fe219af-6774-4509-8d7b-b34b4b1c6361",
        "colab": {
          "base_uri": "https://localhost:8080/",
          "height": 50
        }
      },
      "source": [
        "results = Dcnn.evaluate(test_dataset)\n",
        "print(results)"
      ],
      "execution_count": null,
      "outputs": [
        {
          "output_type": "stream",
          "text": [
            "4513/4513 [==============================] - 156s 35ms/step - loss: 0.3359 - accuracy: 0.8598\n",
            "[0.33594396710395813, 0.8597731590270996]\n"
          ],
          "name": "stdout"
        }
      ]
    },
    {
      "cell_type": "code",
      "metadata": {
        "id": "GAnePWaPCLVf"
      },
      "source": [
        "def get_prediction(sentence):\n",
        "  tokens = encode_sentence(sentence)\n",
        "\n",
        "  input_ids = get_ids(tokens)\n",
        "  input_mask = get_mask(tokens)\n",
        "  segment_ids = get_segments(tokens)\n",
        "\n",
        "  inputs = tf.stack(\n",
        "      [\n",
        "       tf.cast(input_ids, dtype=tf.int32),\n",
        "       tf.cast(input_mask, dtype=tf.int32),\n",
        "       tf.cast(segment_ids, dtype=tf.int32),\n",
        "      ], axis = 0)\n",
        "  inputs = tf.expand_dims(inputs, 0)\n",
        "\n",
        "  output = Dcnn(inputs, training=False)\n",
        "\n",
        "  sentiment = math.floor(output*2)\n",
        "\n",
        "  if sentiment == 0:\n",
        "    print(\"Output of the model: {}\\nPredicted sentiment: negative\".format(output))\n",
        "  elif sentiment == 1:\n",
        "    print(\"Output of the model: {}\\nPredicted sentiment: positive\".format(output))\n"
      ],
      "execution_count": null,
      "outputs": []
    },
    {
      "cell_type": "code",
      "metadata": {
        "id": "Jb_7IGY_DaqL",
        "outputId": "4fa22568-b642-4c81-f8de-e0b66d6af6e9",
        "colab": {
          "base_uri": "https://localhost:8080/",
          "height": 50
        }
      },
      "source": [
        "get_prediction(\"This actor is very bad.\")"
      ],
      "execution_count": null,
      "outputs": [
        {
          "output_type": "stream",
          "text": [
            "Output of the model: [[0.02377077]]\n",
            "Predicted sentiment: negative\n"
          ],
          "name": "stdout"
        }
      ]
    },
    {
      "cell_type": "code",
      "metadata": {
        "id": "73nVjcmmDymB",
        "outputId": "977a8cd5-1dab-4d7e-a965-d6d46929ce71",
        "colab": {
          "base_uri": "https://localhost:8080/",
          "height": 50
        }
      },
      "source": [
        "get_prediction(\"I like dogs.\")"
      ],
      "execution_count": null,
      "outputs": [
        {
          "output_type": "stream",
          "text": [
            "Output of the model: [[0.8251346]]\n",
            "Predicted sentiment: positive\n"
          ],
          "name": "stdout"
        }
      ]
    }
  ]
}